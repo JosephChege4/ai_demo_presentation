{
 "cells": [
  {
   "cell_type": "markdown",
   "id": "cd7996c5-91eb-41de-ac6a-0b22462b76f1",
   "metadata": {},
   "source": [
    "# Auto-Merging Retreival - Source Group B"
   ]
  },
  {
   "cell_type": "code",
   "execution_count": 30,
   "id": "8949da64-bc7f-4929-b394-51d11732e62f",
   "metadata": {},
   "outputs": [],
   "source": [
    "import os\n",
    "\n",
    "from llama_index.core import (\n",
    "    VectorStoreIndex,\n",
    "    StorageContext,\n",
    "    Settings,\n",
    "    load_index_from_storage,\n",
    ")\n",
    "from llama_index.llms.openai import OpenAI\n",
    "from llama_index.embeddings.openai import OpenAIEmbedding\n",
    "from llama_index.core.node_parser import HierarchicalNodeParser, get_leaf_nodes\n",
    "from llama_index.core.retrievers import AutoMergingRetriever\n",
    "from llama_index.core.indices.postprocessor import SentenceTransformerRerank\n",
    "from llama_index.core.query_engine import RetrieverQueryEngine\n",
    "\n",
    "\n",
    "def build_automerging_index(\n",
    "    documents,\n",
    "    llm,\n",
    "    embed_model=\"local:BAAI/bge-small-en-v1.5\",\n",
    "    save_dir=\"merging_index\",\n",
    "    chunk_sizes=None,\n",
    "):\n",
    "    # Set global settings\n",
    "    Settings.llm = llm\n",
    "    Settings.embed_model = embed_model\n",
    "\n",
    "    chunk_sizes = chunk_sizes or [2048, 512, 128]\n",
    "    node_parser = HierarchicalNodeParser.from_defaults(chunk_sizes=chunk_sizes)\n",
    "    nodes = node_parser.get_nodes_from_documents(documents)\n",
    "    leaf_nodes = get_leaf_nodes(nodes)\n",
    "\n",
    "    storage_context = StorageContext.from_defaults()\n",
    "    storage_context.docstore.add_documents(nodes)\n",
    "\n",
    "    if not os.path.exists(save_dir):\n",
    "        automerging_index = VectorStoreIndex(\n",
    "            leaf_nodes,\n",
    "            storage_context=storage_context,\n",
    "        )\n",
    "        automerging_index.storage_context.persist(persist_dir=save_dir)\n",
    "    else:\n",
    "        automerging_index = load_index_from_storage(\n",
    "            StorageContext.from_defaults(persist_dir=save_dir),\n",
    "        )\n",
    "    return automerging_index\n",
    "\n",
    "\n",
    "def get_automerging_query_engine(\n",
    "    automerging_index,\n",
    "    similarity_top_k=12,\n",
    "    rerank_top_n=6,\n",
    "):\n",
    "    base_retriever = automerging_index.as_retriever(similarity_top_k=similarity_top_k)\n",
    "    retriever = AutoMergingRetriever(\n",
    "        base_retriever, automerging_index.storage_context, verbose=True\n",
    "    )\n",
    "    rerank = SentenceTransformerRerank(\n",
    "        top_n=rerank_top_n, model=\"BAAI/bge-reranker-base\"\n",
    "    )\n",
    "    auto_merging_engine = RetrieverQueryEngine.from_args(\n",
    "        retriever, node_postprocessors=[rerank]\n",
    "    )\n",
    "    return auto_merging_engine\n"
   ]
  },
  {
   "cell_type": "code",
   "execution_count": 31,
   "id": "642f00fd",
   "metadata": {},
   "outputs": [],
   "source": [
    "from llama_index.llms.openai import OpenAI \n",
    "from llama_index.core import Settings\n",
    "\n",
    "from llama_index.core import SimpleDirectoryReader\n",
    "\n",
    "documents = SimpleDirectoryReader(\n",
    "    input_files=[\"./SourceGroupB/source12.pdf\", \"./SourceGroupB/source1.pdf\", \"./SourceGroupB/source2.pdf\", \"./SourceGroupB/source3.pdf\", \"./SourceGroupB/source4.pdf\", \"./SourceGroupB/source5.pdf\", \"./SourceGroupB/source6.pdf\", \"./SourceGroupB/source7.pdf\", \"./SourceGroupB/source8.pdf\", \"./SourceGroupB/source9.pdf\", \"./SourceGroupB/source10.pdf\", \"./SourceGroupB/source11.pdf\"]\n",
    ").load_data()\n"
   ]
  },
  {
   "cell_type": "code",
   "execution_count": 32,
   "id": "b7f52577-2e8e-4fee-ade9-2f5ce96a7a8c",
   "metadata": {},
   "outputs": [],
   "source": [
    "from llama_index.core import Document\n",
    "\n",
    "document = Document(text=\"\\n\\n\".join([doc.text for doc in documents]))\n",
    "\n",
    "index = build_automerging_index(\n",
    "    [document],\n",
    "    llm=OpenAI(model=\"gpt-3.5-turbo\", temperature=0.5),\n",
    "    save_dir=\"./merging_index_GroupB\",\n",
    ")\n"
   ]
  },
  {
   "cell_type": "code",
   "execution_count": 33,
   "id": "c753885f-bfaf-4ac0-8410-b62f619827c4",
   "metadata": {},
   "outputs": [
    {
     "name": "stdout",
     "output_type": "stream",
     "text": [
      "Are current policing methods effective in reducing crime in minority communities?\n"
     ]
    },
    {
     "data": {
      "text/markdown": [
       "**`Final Response:`** Current policing methods are not effective in reducing crime in minority communities."
      ],
      "text/plain": [
       "<IPython.core.display.Markdown object>"
      ]
     },
     "metadata": {},
     "output_type": "display_data"
    },
    {
     "name": "stdout",
     "output_type": "stream",
     "text": [
      "How does the use of facial recognition technology impact racial profiling?\n"
     ]
    },
    {
     "data": {
      "text/markdown": [
       "**`Final Response:`** The use of facial recognition technology can lead to racial profiling as these systems have been shown to disproportionately fail in detecting Black faces while still targeting Black individuals for surveillance. This results in a situation where Black individuals are more likely to be unfairly monitored and scrutinized due to the biases and inaccuracies present in facial recognition technology."
      ],
      "text/plain": [
       "<IPython.core.display.Markdown object>"
      ]
     },
     "metadata": {},
     "output_type": "display_data"
    },
    {
     "name": "stdout",
     "output_type": "stream",
     "text": [
      "Is there evidence to support claims of systemic racism within law enforcement agencies?\n",
      "> Merging 1 nodes into parent node.\n",
      "> Parent node id: 37fd3e8d-3f89-4e6c-b2fb-1a9ab9cdb6c2.\n",
      "> Parent node text: 5/4/25, 8:12 PM Systemic racism pervades US police and justice systems, UN Mechanism on Racial Ju...\n",
      "\n"
     ]
    },
    {
     "data": {
      "text/markdown": [
       "**`Final Response:`** Yes, there is evidence to support claims of systemic racism within law enforcement agencies, as highlighted in the report. The report mentions that systemic racism against people of African descent pervades America's police forces and criminal justice system. It also points out that racism in the US, stemming from historical factors like slavery and apartheid, persists today in the form of racial profiling, police killings, and other human rights violations. The report emphasizes the need for urgent reform efforts to address these systemic issues."
      ],
      "text/plain": [
       "<IPython.core.display.Markdown object>"
      ]
     },
     "metadata": {},
     "output_type": "display_data"
    },
    {
     "name": "stdout",
     "output_type": "stream",
     "text": [
      "How do predictive policing algorithms affect communities of color?\n"
     ]
    },
    {
     "data": {
      "text/markdown": [
       "**`Final Response:`** Predictive policing algorithms disproportionately harm marginalized communities, particularly communities of color. This harm is rooted in flawed data and historical racism, leading to systemic oppression. The use of these algorithms can reinforce biases and perpetuate discrimination against marginalized communities, impacting their interactions with law enforcement and potentially leading to unjust outcomes."
      ],
      "text/plain": [
       "<IPython.core.display.Markdown object>"
      ]
     },
     "metadata": {},
     "output_type": "display_data"
    },
    {
     "name": "stdout",
     "output_type": "stream",
     "text": [
      "How do media portrayals of crime influence public perception of different racial groups?\n",
      "> Merging 3 nodes into parent node.\n",
      "> Parent node id: b6aec4a2-a188-4641-b388-5f6f5d73b7f7.\n",
      "> Parent node text: It drives viewer engagement\n",
      "\n",
      "MenuClose\n",
      "5/4/25, 8:14 PM The Inﬂuence of Media on Public Perceptio...\n",
      "\n"
     ]
    },
    {
     "data": {
      "text/markdown": [
       "**`Final Response:`** Media portrayals of crime can influence public perception of different racial groups by over-representing certain crimes involving specific racial groups, such as black suspects, and sharing these stories more frequently on platforms like social media. This can create a skewed view of race and crime, shaping how the public perceives different racial groups in relation to criminal activity."
      ],
      "text/plain": [
       "<IPython.core.display.Markdown object>"
      ]
     },
     "metadata": {},
     "output_type": "display_data"
    },
    {
     "name": "stdout",
     "output_type": "stream",
     "text": [
      "What are the consequences of underreporting hate crimes on minority communities?\n",
      "> Merging 1 nodes into parent node.\n",
      "> Parent node id: 73f9f8a7-f3ea-4f16-a442-2748ad856c96.\n",
      "> Parent node text: This\n",
      " \n",
      "raises\n",
      " \n",
      "a\n",
      " \n",
      "crucial\n",
      " \n",
      "question:\n",
      " \n",
      "when\n",
      " \n",
      "does\n",
      " \n",
      "visibility\n",
      " \n",
      "become\n",
      " \n",
      "another\n",
      " \n",
      "form\n",
      " \n",
      "of...\n",
      "\n"
     ]
    },
    {
     "data": {
      "text/markdown": [
       "**`Final Response:`** Underreporting hate crimes on minority communities can lead to a lack of awareness and acknowledgment of the extent of discrimination and violence they face. This can result in inadequate support and resources being allocated to address these issues, perpetuating a cycle of marginalization and injustice. Additionally, underreporting can contribute to a false sense of security and downplay the severity of the challenges that minority communities encounter, hindering efforts to combat hate crimes effectively."
      ],
      "text/plain": [
       "<IPython.core.display.Markdown object>"
      ]
     },
     "metadata": {},
     "output_type": "display_data"
    },
    {
     "name": "stdout",
     "output_type": "stream",
     "text": [
      "How do law enforcement agencies address allegations of racial bias in their practices?\n",
      "> Merging 3 nodes into parent node.\n",
      "> Parent node id: 832eca2c-1aed-492a-bcde-8523e0a5a08e.\n",
      "> Parent node text: By  centering  marginalized  perspectives,  we  move  beyond  fixing  algorithmic  bias  to  \n",
      "fun...\n",
      "\n"
     ]
    },
    {
     "data": {
      "text/markdown": [
       "**`Final Response:`** Law enforcement agencies address allegations of racial bias in their practices by putting in place alternative responses to policing, addressing systemic racism against Black law enforcement officers, and tackling issues of white supremacy ideology within their agencies."
      ],
      "text/plain": [
       "<IPython.core.display.Markdown object>"
      ]
     },
     "metadata": {},
     "output_type": "display_data"
    },
    {
     "name": "stdout",
     "output_type": "stream",
     "text": [
      "What measures can be taken to ensure equitable treatment of all racial groups within the criminal justice system?\n",
      "> Merging 4 nodes into parent node.\n",
      "> Parent node id: 832eca2c-1aed-492a-bcde-8523e0a5a08e.\n",
      "> Parent node text: By  centering  marginalized  perspectives,  we  move  beyond  fixing  algorithmic  bias  to  \n",
      "fun...\n",
      "\n"
     ]
    },
    {
     "data": {
      "text/markdown": [
       "**`Final Response:`** Measures such as implementing alternative responses to policing, addressing systemic racism within police agencies, promoting a culture of respect and wellbeing within law enforcement ranks, and combating prevailing impunity through joint efforts of all actors involved, including police departments and unions, can help ensure equitable treatment of all racial groups within the criminal justice system."
      ],
      "text/plain": [
       "<IPython.core.display.Markdown object>"
      ]
     },
     "metadata": {},
     "output_type": "display_data"
    }
   ],
   "source": [
    "from llama_index.core.response.notebook_utils import display_response\n",
    "\n",
    "query_engine = get_automerging_query_engine(index, similarity_top_k=6)\n",
    "\n",
    "with open('./generated_questions.txt') as file:\n",
    "    for line in file:\n",
    "        question = line.strip()\n",
    "        print(question)\n",
    "        display_response(query_engine.query(question))"
   ]
  }
 ],
 "metadata": {
  "kernelspec": {
   "display_name": "venv",
   "language": "python",
   "name": "python3"
  },
  "language_info": {
   "codemirror_mode": {
    "name": "ipython",
    "version": 3
   },
   "file_extension": ".py",
   "mimetype": "text/x-python",
   "name": "python",
   "nbconvert_exporter": "python",
   "pygments_lexer": "ipython3",
   "version": "3.13.2"
  }
 },
 "nbformat": 4,
 "nbformat_minor": 5
}
