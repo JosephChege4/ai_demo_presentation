{
 "cells": [
  {
   "cell_type": "markdown",
   "id": "cd7996c5-91eb-41de-ac6a-0b22462b76f1",
   "metadata": {},
   "source": [
    "# Auto-Merging Retreival - Source Group B"
   ]
  },
  {
   "cell_type": "code",
   "execution_count": 22,
   "id": "8949da64-bc7f-4929-b394-51d11732e62f",
   "metadata": {},
   "outputs": [],
   "source": [
    "import os\n",
    "\n",
    "from llama_index.core import (\n",
    "    VectorStoreIndex,\n",
    "    StorageContext,\n",
    "    Settings,\n",
    "    load_index_from_storage,\n",
    ")\n",
    "from llama_index.llms.openai import OpenAI\n",
    "from llama_index.embeddings.openai import OpenAIEmbedding\n",
    "from llama_index.core.node_parser import HierarchicalNodeParser, get_leaf_nodes\n",
    "from llama_index.core.retrievers import AutoMergingRetriever\n",
    "from llama_index.core.indices.postprocessor import SentenceTransformerRerank\n",
    "from llama_index.core.query_engine import RetrieverQueryEngine\n",
    "\n",
    "\n",
    "def build_automerging_index(\n",
    "    documents,\n",
    "    llm,\n",
    "    embed_model=\"local:BAAI/bge-small-en-v1.5\",\n",
    "    save_dir=\"merging_index\",\n",
    "    chunk_sizes=None,\n",
    "):\n",
    "    # Set global settings\n",
    "    Settings.llm = llm\n",
    "    Settings.embed_model = embed_model\n",
    "\n",
    "    chunk_sizes = chunk_sizes or [2048, 512, 128]\n",
    "    node_parser = HierarchicalNodeParser.from_defaults(chunk_sizes=chunk_sizes)\n",
    "    nodes = node_parser.get_nodes_from_documents(documents)\n",
    "    leaf_nodes = get_leaf_nodes(nodes)\n",
    "\n",
    "    storage_context = StorageContext.from_defaults()\n",
    "    storage_context.docstore.add_documents(nodes)\n",
    "\n",
    "    if not os.path.exists(save_dir):\n",
    "        automerging_index = VectorStoreIndex(\n",
    "            leaf_nodes,\n",
    "            storage_context=storage_context,\n",
    "        )\n",
    "        automerging_index.storage_context.persist(persist_dir=save_dir)\n",
    "    else:\n",
    "        automerging_index = load_index_from_storage(\n",
    "            StorageContext.from_defaults(persist_dir=save_dir),\n",
    "        )\n",
    "    return automerging_index\n",
    "\n",
    "\n",
    "def get_automerging_query_engine(\n",
    "    automerging_index,\n",
    "    similarity_top_k=12,\n",
    "    rerank_top_n=6,\n",
    "):\n",
    "    base_retriever = automerging_index.as_retriever(similarity_top_k=similarity_top_k)\n",
    "    retriever = AutoMergingRetriever(\n",
    "        base_retriever, automerging_index.storage_context, verbose=True\n",
    "    )\n",
    "    rerank = SentenceTransformerRerank(\n",
    "        top_n=rerank_top_n, model=\"BAAI/bge-reranker-base\"\n",
    "    )\n",
    "    auto_merging_engine = RetrieverQueryEngine.from_args(\n",
    "        retriever, node_postprocessors=[rerank]\n",
    "    )\n",
    "    return auto_merging_engine\n"
   ]
  },
  {
   "cell_type": "code",
   "execution_count": null,
   "id": "642f00fd",
   "metadata": {},
   "outputs": [],
   "source": [
    "from llama_index.llms.openai import OpenAI \n",
    "from llama_index.core import Settings\n",
    "\n",
    "from llama_index.core import SimpleDirectoryReader\n",
    "\n",
    "documents = SimpleDirectoryReader(\n",
    "    input_files=[\"./SourceGroupB/source12.pdf\", \"./SourceGroupB/source1.pdf\", \"./SourceGroupB/source2.pdf\", \"./SourceGroupB/source3.pdf\", \"./SourceGroupB/source4.pdf\", \"./SourceGroupB/source5.pdf\", \"./SourceGroupB/source6.pdf\", \"./SourceGroupB/source7.pdf\", \"./SourceGroupB/source8.pdf\", \"./SourceGroupB/source9.pdf\", \"./SourceGroupB/source10.pdf\", \"./SourceGroupB/source11.pdf\"]\n",
    ").load_data()\n"
   ]
  },
  {
   "cell_type": "code",
   "execution_count": 24,
   "id": "b7f52577-2e8e-4fee-ade9-2f5ce96a7a8c",
   "metadata": {},
   "outputs": [],
   "source": [
    "from llama_index.core import Document\n",
    "\n",
    "document = Document(text=\"\\n\\n\".join([doc.text for doc in documents]))\n",
    "\n",
    "index = build_automerging_index(\n",
    "    [document],\n",
    "    llm=OpenAI(model=\"gpt-3.5-turbo\", temperature=0.5),\n",
    "    save_dir=\"./merging_index\",\n",
    ")\n"
   ]
  },
  {
   "cell_type": "code",
   "execution_count": 25,
   "id": "c753885f-bfaf-4ac0-8410-b62f619827c4",
   "metadata": {},
   "outputs": [
    {
     "name": "stdout",
     "output_type": "stream",
     "text": [
      "Are current policing methods effective in reducing crime in minority communities?\n",
      "> Merging 1 nodes into parent node.\n",
      "> Parent node id: 31f1f412-5bc1-4c28-9114-cc6746428b3a.\n",
      "> Parent node text: There is no evidence of systematic anti-Black disparities in fatal shootings of unarmed citizens....\n",
      "\n"
     ]
    },
    {
     "data": {
      "text/markdown": [
       "**`Final Response:`** Current policing methods have been subject to scrutiny regarding potential bias and racial disparities, particularly in discretionary stops like \"stop and frisk.\" Despite efforts to address concerns about bias in policing data, there is ongoing debate about the effectiveness of these methods in reducing crime in minority communities. The discussion around crime in minority communities often involves comparisons of different data sets and population-based statistics to assess the impact of policing strategies on crime rates and disparities."
      ],
      "text/plain": [
       "<IPython.core.display.Markdown object>"
      ]
     },
     "metadata": {},
     "output_type": "display_data"
    },
    {
     "name": "stdout",
     "output_type": "stream",
     "text": [
      "How does the use of facial recognition technology impact racial profiling?\n",
      "> Merging 1 nodes into parent node.\n",
      "> Parent node id: 31f1f412-5bc1-4c28-9114-cc6746428b3a.\n",
      "> Parent node text: There is no evidence of systematic anti-Black disparities in fatal shootings of unarmed citizens....\n",
      "\n"
     ]
    },
    {
     "data": {
      "text/markdown": [
       "**`Final Response:`** Facial recognition technology can potentially impact racial profiling as it relies on algorithms that may be biased towards certain racial groups. This bias can lead to disproportionate targeting and surveillance of individuals from specific racial backgrounds, contributing to racial disparities in law enforcement practices."
      ],
      "text/plain": [
       "<IPython.core.display.Markdown object>"
      ]
     },
     "metadata": {},
     "output_type": "display_data"
    },
    {
     "name": "stdout",
     "output_type": "stream",
     "text": [
      "What are the implications of reinstating 'broken windows' policing strategies?\n"
     ]
    },
    {
     "data": {
      "text/markdown": [
       "**`Final Response:`** Reinstating 'broken windows' policing strategies could potentially lead to increased discretionary stops and interactions between police officers and citizens. This could result in a higher likelihood of encounters with black citizens, which may in turn raise concerns about potential bias and its impact on deadly force incidents."
      ],
      "text/plain": [
       "<IPython.core.display.Markdown object>"
      ]
     },
     "metadata": {},
     "output_type": "display_data"
    },
    {
     "name": "stdout",
     "output_type": "stream",
     "text": [
      "Is there evidence to support claims of systemic racism within law enforcement agencies?\n",
      "> Merging 1 nodes into parent node.\n",
      "> Parent node id: 31f1f412-5bc1-4c28-9114-cc6746428b3a.\n",
      "> Parent node text: There is no evidence of systematic anti-Black disparities in fatal shootings of unarmed citizens....\n",
      "\n"
     ]
    },
    {
     "data": {
      "text/markdown": [
       "**`Final Response:`** There is no evidence presented in the context information to support claims of systemic racism within law enforcement agencies."
      ],
      "text/plain": [
       "<IPython.core.display.Markdown object>"
      ]
     },
     "metadata": {},
     "output_type": "display_data"
    },
    {
     "name": "stdout",
     "output_type": "stream",
     "text": [
      "How do predictive policing algorithms affect communities of color?\n"
     ]
    },
    {
     "data": {
      "text/markdown": [
       "**`Final Response:`** Predictive policing algorithms have the potential to disproportionately impact communities of color."
      ],
      "text/plain": [
       "<IPython.core.display.Markdown object>"
      ]
     },
     "metadata": {},
     "output_type": "display_data"
    },
    {
     "name": "stdout",
     "output_type": "stream",
     "text": [
      "What role does socioeconomic status play in crime rates among different racial groups?\n"
     ]
    },
    {
     "data": {
      "text/markdown": [
       "**`Final Response:`** Socioeconomic status does not play a significant role in determining crime rates among different racial groups, according to the information provided. Instead, the factor that most strongly correlates with the race of individuals fatally shot by police is the violent crime rate of their racial group."
      ],
      "text/plain": [
       "<IPython.core.display.Markdown object>"
      ]
     },
     "metadata": {},
     "output_type": "display_data"
    },
    {
     "name": "stdout",
     "output_type": "stream",
     "text": [
      "How do media portrayals of crime influence public perception of different racial groups?\n"
     ]
    },
    {
     "data": {
      "text/markdown": [
       "**`Final Response:`** Media portrayals of crime can significantly impact public perception of different racial groups. By focusing on specific incidents and emphasizing emotional aspects rather than objective facts, the media can shape how the public views certain races in relation to criminal activity. This can lead to distorted perceptions and biases that may not accurately reflect reality."
      ],
      "text/plain": [
       "<IPython.core.display.Markdown object>"
      ]
     },
     "metadata": {},
     "output_type": "display_data"
    },
    {
     "name": "stdout",
     "output_type": "stream",
     "text": [
      "What are the consequences of underreporting hate crimes on minority communities?\n",
      "> Merging 1 nodes into parent node.\n",
      "> Parent node id: 31f1f412-5bc1-4c28-9114-cc6746428b3a.\n",
      "> Parent node text: There is no evidence of systematic anti-Black disparities in fatal shootings of unarmed citizens....\n",
      "\n"
     ]
    },
    {
     "data": {
      "text/markdown": [
       "**`Final Response:`** Underreporting hate crimes on minority communities can lead to a distorted perception of the prevalence and severity of such crimes. This can result in a lack of appropriate resources and support for affected communities, as well as a failure to address systemic issues that contribute to hate crimes. Additionally, underreporting can perpetuate a cycle of discrimination and violence against minority groups, as it may embolden perpetrators who feel they can act with impunity."
      ],
      "text/plain": [
       "<IPython.core.display.Markdown object>"
      ]
     },
     "metadata": {},
     "output_type": "display_data"
    },
    {
     "name": "stdout",
     "output_type": "stream",
     "text": [
      "How do law enforcement agencies address allegations of racial bias in their practices?\n"
     ]
    },
    {
     "data": {
      "text/markdown": [
       "**`Final Response:`** Law enforcement agencies address allegations of racial bias in their practices by conducting research and studies to analyze data on police interactions and use of force. They compare different data sets to assess for any potential bias and to determine if there are disparities in how different racial groups are treated. By examining various sources of information and analyzing the rates of police exposure for different racial groups, law enforcement agencies aim to understand and address any potential biases in their practices."
      ],
      "text/plain": [
       "<IPython.core.display.Markdown object>"
      ]
     },
     "metadata": {},
     "output_type": "display_data"
    },
    {
     "name": "stdout",
     "output_type": "stream",
     "text": [
      "What measures can be taken to ensure equitable treatment of all racial groups within the criminal justice system?\n"
     ]
    },
    {
     "data": {
      "text/markdown": [
       "**`Final Response:`** Measures that can be taken to ensure equitable treatment of all racial groups within the criminal justice system include:\n",
       "1. Using appropriate benchmarks for disparity research rather than relying solely on overall population metrics.\n",
       "2. Analyzing data sets uncontaminated by bias to accurately assess disparities in police interactions.\n",
       "3. Implementing training programs for law enforcement to address any biases that may exist in decision-making processes.\n",
       "4. Conducting regular reviews and audits of police practices to identify and rectify any disparities in treatment.\n",
       "5. Promoting transparency and accountability within law enforcement agencies to build trust with all communities.\n",
       "6. Encouraging diversity and inclusion within law enforcement to reflect the communities they serve.\n",
       "7. Collaborating with community stakeholders to develop and implement policies that promote fairness and equity in the criminal justice system."
      ],
      "text/plain": [
       "<IPython.core.display.Markdown object>"
      ]
     },
     "metadata": {},
     "output_type": "display_data"
    }
   ],
   "source": [
    "from llama_index.core.response.notebook_utils import display_response\n",
    "\n",
    "query_engine = get_automerging_query_engine(index, similarity_top_k=6)\n",
    "\n",
    "with open('./generated_questions.txt') as file:\n",
    "    for line in file:\n",
    "        question = line.strip()\n",
    "        print(question)\n",
    "        display_response(query_engine.query(question))"
   ]
  }
 ],
 "metadata": {
  "kernelspec": {
   "display_name": "venv",
   "language": "python",
   "name": "python3"
  },
  "language_info": {
   "codemirror_mode": {
    "name": "ipython",
    "version": 3
   },
   "file_extension": ".py",
   "mimetype": "text/x-python",
   "name": "python",
   "nbconvert_exporter": "python",
   "pygments_lexer": "ipython3",
   "version": "3.13.2"
  }
 },
 "nbformat": 4,
 "nbformat_minor": 5
}
