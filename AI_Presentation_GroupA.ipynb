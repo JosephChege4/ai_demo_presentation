{
 "cells": [
  {
   "cell_type": "markdown",
   "id": "cd7996c5-91eb-41de-ac6a-0b22462b76f1",
   "metadata": {},
   "source": [
    "# Auto-Merging Retreival - Source Group A"
   ]
  },
  {
   "cell_type": "code",
   "execution_count": 13,
   "id": "8949da64-bc7f-4929-b394-51d11732e62f",
   "metadata": {},
   "outputs": [],
   "source": [
    "import os\n",
    "\n",
    "from llama_index.core import (\n",
    "    VectorStoreIndex,\n",
    "    StorageContext,\n",
    "    Settings,\n",
    "    load_index_from_storage,\n",
    ")\n",
    "from llama_index.llms.openai import OpenAI\n",
    "from llama_index.embeddings.openai import OpenAIEmbedding\n",
    "from llama_index.core.node_parser import HierarchicalNodeParser, get_leaf_nodes\n",
    "from llama_index.core.retrievers import AutoMergingRetriever\n",
    "from llama_index.core.indices.postprocessor import SentenceTransformerRerank\n",
    "from llama_index.core.query_engine import RetrieverQueryEngine\n",
    "\n",
    "\n",
    "def build_automerging_index(\n",
    "    documents,\n",
    "    llm,\n",
    "    embed_model=\"local:BAAI/bge-small-en-v1.5\",\n",
    "    save_dir=\"merging_index\",\n",
    "    chunk_sizes=None,\n",
    "):\n",
    "    # Set global settings\n",
    "    Settings.llm = llm\n",
    "    Settings.embed_model = embed_model\n",
    "\n",
    "    chunk_sizes = chunk_sizes or [2048, 512, 128]\n",
    "    node_parser = HierarchicalNodeParser.from_defaults(chunk_sizes=chunk_sizes)\n",
    "    nodes = node_parser.get_nodes_from_documents(documents)\n",
    "    leaf_nodes = get_leaf_nodes(nodes)\n",
    "\n",
    "    storage_context = StorageContext.from_defaults()\n",
    "    storage_context.docstore.add_documents(nodes)\n",
    "\n",
    "    if not os.path.exists(save_dir):\n",
    "        automerging_index = VectorStoreIndex(\n",
    "            leaf_nodes,\n",
    "            storage_context=storage_context,\n",
    "        )\n",
    "        automerging_index.storage_context.persist(persist_dir=save_dir)\n",
    "    else:\n",
    "        automerging_index = load_index_from_storage(\n",
    "            StorageContext.from_defaults(persist_dir=save_dir),\n",
    "        )\n",
    "    return automerging_index\n",
    "\n",
    "\n",
    "def get_automerging_query_engine(\n",
    "    automerging_index,\n",
    "    similarity_top_k=12,\n",
    "    rerank_top_n=6,\n",
    "):\n",
    "    base_retriever = automerging_index.as_retriever(similarity_top_k=similarity_top_k)\n",
    "    retriever = AutoMergingRetriever(\n",
    "        base_retriever, automerging_index.storage_context, verbose=True\n",
    "    )\n",
    "    rerank = SentenceTransformerRerank(\n",
    "        top_n=rerank_top_n, model=\"BAAI/bge-reranker-base\"\n",
    "    )\n",
    "    auto_merging_engine = RetrieverQueryEngine.from_args(\n",
    "        retriever, node_postprocessors=[rerank]\n",
    "    )\n",
    "    return auto_merging_engine\n"
   ]
  },
  {
   "cell_type": "code",
   "execution_count": null,
   "id": "642f00fd",
   "metadata": {},
   "outputs": [],
   "source": [
    "from llama_index.llms.openai import OpenAI \n",
    "from llama_index.core import Settings\n",
    "\n",
    "from llama_index.core import SimpleDirectoryReader\n",
    "\n",
    "documents = SimpleDirectoryReader(\n",
    "    input_files=[\"./SourceGroupA/source12.pdf\", \"./SourceGroupA/source1.pdf\", \"./SourceGroupA/source11.pdf\", \"./SourceGroupA/source2.pdf\", \"./SourceGroupA/source3.pdf\", \"./SourceGroupA/source4.pdf\", \"./SourceGroupA/source5.pdf\", \"./SourceGroupA/source6.pdf\", \"./SourceGroupA/source7.pdf\", \"./SourceGroupA/source8.pdf\", \"./SourceGroupA/source9.pdf\", \"./SourceGroupA/source10.pdf\"]\n",
    ").load_data()\n"
   ]
  },
  {
   "cell_type": "code",
   "execution_count": 15,
   "id": "b7f52577-2e8e-4fee-ade9-2f5ce96a7a8c",
   "metadata": {},
   "outputs": [],
   "source": [
    "from llama_index.core import Document\n",
    "\n",
    "document = Document(text=\"\\n\\n\".join([doc.text for doc in documents]))\n",
    "\n",
    "index = build_automerging_index(\n",
    "    [document],\n",
    "    llm=OpenAI(model=\"gpt-3.5-turbo\", temperature=0.5),\n",
    "    save_dir=\"./merging_index_GroupA\",\n",
    ")\n"
   ]
  },
  {
   "cell_type": "code",
   "execution_count": 16,
   "id": "c753885f-bfaf-4ac0-8410-b62f619827c4",
   "metadata": {},
   "outputs": [
    {
     "name": "stdout",
     "output_type": "stream",
     "text": [
      "Are current policing methods effective in reducing crime in minority communities?\n",
      "> Merging 1 nodes into parent node.\n",
      "> Parent node id: c5e5f938-6b3b-43ba-a50b-48b698e887b2.\n",
      "> Parent node text: There is no evidence of systematic anti-Black disparities in fatal shootings of unarmed citizens....\n",
      "\n"
     ]
    },
    {
     "data": {
      "text/markdown": [
       "**`Final Response:`** Current policing methods may be effective in reducing crime in minority communities, as indicated by the comparison of various data sets that show consistent results when analyzing fatal police shootings. The research suggests that there is no systematic anti-Black disparities in these incidents, and when accounting for estimated rates of police exposure, the outcomes do not show significant disparities in either direction. This information implies that current policing methods may be playing a role in addressing crime in minority communities."
      ],
      "text/plain": [
       "<IPython.core.display.Markdown object>"
      ]
     },
     "metadata": {},
     "output_type": "display_data"
    },
    {
     "name": "stdout",
     "output_type": "stream",
     "text": [
      "How does the use of facial recognition technology impact racial profiling?\n",
      "> Merging 1 nodes into parent node.\n",
      "> Parent node id: c5e5f938-6b3b-43ba-a50b-48b698e887b2.\n",
      "> Parent node text: There is no evidence of systematic anti-Black disparities in fatal shootings of unarmed citizens....\n",
      "\n"
     ]
    },
    {
     "data": {
      "text/markdown": [
       "**`Final Response:`** The use of facial recognition technology can potentially exacerbate racial profiling due to issues with accuracy and bias in the algorithms. This can lead to disproportionate targeting of certain racial groups, contributing to systemic discrimination and injustices in law enforcement practices."
      ],
      "text/plain": [
       "<IPython.core.display.Markdown object>"
      ]
     },
     "metadata": {},
     "output_type": "display_data"
    },
    {
     "name": "stdout",
     "output_type": "stream",
     "text": [
      "Is there evidence to support claims of systemic racism within law enforcement agencies?\n",
      "> Merging 1 nodes into parent node.\n",
      "> Parent node id: c5e5f938-6b3b-43ba-a50b-48b698e887b2.\n",
      "> Parent node text: There is no evidence of systematic anti-Black disparities in fatal shootings of unarmed citizens....\n",
      "\n"
     ]
    },
    {
     "data": {
      "text/markdown": [
       "**`Final Response:`** There is no evidence presented in the provided context information to support claims of systemic racism within law enforcement agencies."
      ],
      "text/plain": [
       "<IPython.core.display.Markdown object>"
      ]
     },
     "metadata": {},
     "output_type": "display_data"
    },
    {
     "name": "stdout",
     "output_type": "stream",
     "text": [
      "How do predictive policing algorithms affect communities of color?\n"
     ]
    },
    {
     "data": {
      "text/markdown": [
       "**`Final Response:`** Predictive policing algorithms can impact communities of color by potentially exacerbating existing disparities in law enforcement practices."
      ],
      "text/plain": [
       "<IPython.core.display.Markdown object>"
      ]
     },
     "metadata": {},
     "output_type": "display_data"
    },
    {
     "name": "stdout",
     "output_type": "stream",
     "text": [
      "How do media portrayals of crime influence public perception of different racial groups?\n"
     ]
    },
    {
     "data": {
      "text/markdown": [
       "**`Final Response:`** Media portrayals of crime can significantly impact public perception of different racial groups. The way crimes are covered in the media, especially when it comes to racial dynamics, can shape how individuals view certain communities. This coverage can either reinforce or challenge existing stereotypes and biases, ultimately influencing how people perceive and interact with individuals from different racial backgrounds."
      ],
      "text/plain": [
       "<IPython.core.display.Markdown object>"
      ]
     },
     "metadata": {},
     "output_type": "display_data"
    },
    {
     "name": "stdout",
     "output_type": "stream",
     "text": [
      "What are the consequences of underreporting hate crimes on minority communities?\n",
      "> Merging 1 nodes into parent node.\n",
      "> Parent node id: c5e5f938-6b3b-43ba-a50b-48b698e887b2.\n",
      "> Parent node text: There is no evidence of systematic anti-Black disparities in fatal shootings of unarmed citizens....\n",
      "\n"
     ]
    },
    {
     "data": {
      "text/markdown": [
       "**`Final Response:`** Underreporting hate crimes on minority communities can lead to a lack of accurate data, which in turn can result in insufficient resources and support being allocated to address and prevent such crimes. This can perpetuate a cycle of discrimination, violence, and fear within minority communities, as well as hinder efforts to hold perpetrators accountable and provide adequate protection for those affected."
      ],
      "text/plain": [
       "<IPython.core.display.Markdown object>"
      ]
     },
     "metadata": {},
     "output_type": "display_data"
    },
    {
     "name": "stdout",
     "output_type": "stream",
     "text": [
      "How do law enforcement agencies address allegations of racial bias in their practices?\n"
     ]
    },
    {
     "data": {
      "text/markdown": [
       "**`Final Response:`** Law enforcement agencies address allegations of racial bias in their practices by conducting research and studies to analyze data on police interactions and use of force. They compare different data sets to assess for any potential bias, such as the Crime Victimization Survey and the Center for Disease Control data, to ensure that their policing data is not contaminated by bias. Additionally, they take steps to understand the proper benchmarks for disparity research and to determine if there are any disparities in their practices based on race."
      ],
      "text/plain": [
       "<IPython.core.display.Markdown object>"
      ]
     },
     "metadata": {},
     "output_type": "display_data"
    },
    {
     "name": "stdout",
     "output_type": "stream",
     "text": [
      "What measures can be taken to ensure equitable treatment of all racial groups within the criminal justice system?\n"
     ]
    },
    {
     "data": {
      "text/markdown": [
       "**`Final Response:`** To ensure equitable treatment of all racial groups within the criminal justice system, it is important to establish appropriate benchmarks for assessing disparities, rather than relying solely on overall population metrics. One measure is to consider rates of police exposure based on criminal activity data from reliable sources. This approach can help in accurately analyzing and addressing any racial disparities that may exist in the criminal justice system. Additionally, ongoing research and analysis by experts can provide valuable insights into potential biases and disparities, leading to informed decision-making and potential reforms to promote fairness and equality for all racial groups."
      ],
      "text/plain": [
       "<IPython.core.display.Markdown object>"
      ]
     },
     "metadata": {},
     "output_type": "display_data"
    }
   ],
   "source": [
    "from llama_index.core.response.notebook_utils import display_response\n",
    "\n",
    "query_engine = get_automerging_query_engine(index, similarity_top_k=6)\n",
    "\n",
    "with open('./generated_questions.txt') as file:\n",
    "    for line in file:\n",
    "        question = line.strip()\n",
    "        print(question)\n",
    "        display_response(query_engine.query(question))"
   ]
  }
 ],
 "metadata": {
  "kernelspec": {
   "display_name": "venv",
   "language": "python",
   "name": "python3"
  },
  "language_info": {
   "codemirror_mode": {
    "name": "ipython",
    "version": 3
   },
   "file_extension": ".py",
   "mimetype": "text/x-python",
   "name": "python",
   "nbconvert_exporter": "python",
   "pygments_lexer": "ipython3",
   "version": "3.13.2"
  }
 },
 "nbformat": 4,
 "nbformat_minor": 5
}
