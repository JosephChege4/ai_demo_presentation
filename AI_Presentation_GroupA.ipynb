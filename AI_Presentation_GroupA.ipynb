{
 "cells": [
  {
   "cell_type": "markdown",
   "id": "cd7996c5-91eb-41de-ac6a-0b22462b76f1",
   "metadata": {},
   "source": [
    "# Auto-Merging Retreival - Source Group A"
   ]
  },
  {
   "cell_type": "code",
   "execution_count": 9,
   "id": "8949da64-bc7f-4929-b394-51d11732e62f",
   "metadata": {},
   "outputs": [],
   "source": [
    "import os\n",
    "\n",
    "from llama_index.core import (\n",
    "    VectorStoreIndex,\n",
    "    StorageContext,\n",
    "    Settings,\n",
    "    load_index_from_storage,\n",
    ")\n",
    "from llama_index.llms.openai import OpenAI\n",
    "from llama_index.embeddings.openai import OpenAIEmbedding\n",
    "from llama_index.core.node_parser import HierarchicalNodeParser, get_leaf_nodes\n",
    "from llama_index.core.retrievers import AutoMergingRetriever\n",
    "from llama_index.core.indices.postprocessor import SentenceTransformerRerank\n",
    "from llama_index.core.query_engine import RetrieverQueryEngine\n",
    "\n",
    "\n",
    "def build_automerging_index(\n",
    "    documents,\n",
    "    llm,\n",
    "    embed_model=\"local:BAAI/bge-small-en-v1.5\",\n",
    "    save_dir=\"merging_index\",\n",
    "    chunk_sizes=None,\n",
    "):\n",
    "    # Set global settings\n",
    "    Settings.llm = llm\n",
    "    Settings.embed_model = embed_model\n",
    "\n",
    "    chunk_sizes = chunk_sizes or [2048, 512, 128]\n",
    "    node_parser = HierarchicalNodeParser.from_defaults(chunk_sizes=chunk_sizes)\n",
    "    nodes = node_parser.get_nodes_from_documents(documents)\n",
    "    leaf_nodes = get_leaf_nodes(nodes)\n",
    "\n",
    "    storage_context = StorageContext.from_defaults()\n",
    "    storage_context.docstore.add_documents(nodes)\n",
    "\n",
    "    if not os.path.exists(save_dir):\n",
    "        automerging_index = VectorStoreIndex(\n",
    "            leaf_nodes,\n",
    "            storage_context=storage_context,\n",
    "        )\n",
    "        automerging_index.storage_context.persist(persist_dir=save_dir)\n",
    "    else:\n",
    "        automerging_index = load_index_from_storage(\n",
    "            StorageContext.from_defaults(persist_dir=save_dir),\n",
    "        )\n",
    "    return automerging_index\n",
    "\n",
    "\n",
    "def get_automerging_query_engine(\n",
    "    automerging_index,\n",
    "    similarity_top_k=12,\n",
    "    rerank_top_n=6,\n",
    "):\n",
    "    base_retriever = automerging_index.as_retriever(similarity_top_k=similarity_top_k)\n",
    "    retriever = AutoMergingRetriever(\n",
    "        base_retriever, automerging_index.storage_context, verbose=True\n",
    "    )\n",
    "    rerank = SentenceTransformerRerank(\n",
    "        top_n=rerank_top_n, model=\"BAAI/bge-reranker-base\"\n",
    "    )\n",
    "    auto_merging_engine = RetrieverQueryEngine.from_args(\n",
    "        retriever, node_postprocessors=[rerank]\n",
    "    )\n",
    "    return auto_merging_engine\n"
   ]
  },
  {
   "cell_type": "code",
   "execution_count": 10,
   "id": "642f00fd",
   "metadata": {},
   "outputs": [],
   "source": [
    "from llama_index.llms.openai import OpenAI \n",
    "from llama_index.core import Settings\n",
    "\n",
    "from llama_index.core import SimpleDirectoryReader\n",
    "\n",
    "documents = SimpleDirectoryReader(\n",
    "    input_files=[\"./SourceGroupA/source1.pdf\", \"./SourceGroupA/source11.pdf\", \"./SourceGroupA/source2.pdf\", \"./SourceGroupA/source3.pdf\", \"./SourceGroupA/source4.pdf\", \"./SourceGroupA/source5.pdf\", \"./SourceGroupA/source6.pdf\", \"./SourceGroupA/source7.pdf\", \"./SourceGroupA/source8.pdf\", \"./SourceGroupA/source9.pdf\", \"./SourceGroupA/source10.pdf\"]\n",
    ").load_data()\n"
   ]
  },
  {
   "cell_type": "code",
   "execution_count": null,
   "id": "b7f52577-2e8e-4fee-ade9-2f5ce96a7a8c",
   "metadata": {},
   "outputs": [],
   "source": [
    "from llama_index.core import Document\n",
    "\n",
    "document = Document(text=\"\\n\\n\".join([doc.text for doc in documents]))\n",
    "\n",
    "index = build_automerging_index(\n",
    "    [document],\n",
    "    llm=OpenAI(model=\"gpt-3.5-turbo\", temperature=0.5),\n",
    "    save_dir=\"./merging_index_GroupA\",\n",
    ")\n"
   ]
  },
  {
   "cell_type": "code",
   "execution_count": 12,
   "id": "c753885f-bfaf-4ac0-8410-b62f619827c4",
   "metadata": {},
   "outputs": [
    {
     "name": "stdout",
     "output_type": "stream",
     "text": [
      "Are current policing methods effective in reducing crime in minority communities?\n",
      "> Merging 1 nodes into parent node.\n",
      "> Parent node id: 31f1f412-5bc1-4c28-9114-cc6746428b3a.\n",
      "> Parent node text: There is no evidence of systematic anti-Black disparities in fatal shootings of unarmed citizens....\n",
      "\n"
     ]
    },
    {
     "data": {
      "text/markdown": [
       "**`Final Response:`** Current policing methods have been subject to scrutiny regarding potential bias and racial disparities. Efforts have been made to address concerns about bias in discretionary stops and police shootings. The effectiveness of these methods in reducing crime in minority communities is a topic of ongoing debate and analysis, with some arguing that the disproportionate number of crimes committed by minorities in certain cities needs to be considered. The use of population-based statistics and comparisons to assess racial disparity or bias in policing continues to be a point of contention among proponents of police reform."
      ],
      "text/plain": [
       "<IPython.core.display.Markdown object>"
      ]
     },
     "metadata": {},
     "output_type": "display_data"
    },
    {
     "name": "stdout",
     "output_type": "stream",
     "text": [
      "How does the use of facial recognition technology impact racial profiling?\n",
      "> Merging 1 nodes into parent node.\n",
      "> Parent node id: 31f1f412-5bc1-4c28-9114-cc6746428b3a.\n",
      "> Parent node text: There is no evidence of systematic anti-Black disparities in fatal shootings of unarmed citizens....\n",
      "\n"
     ]
    },
    {
     "data": {
      "text/markdown": [
       "**`Final Response:`** Facial recognition technology can impact racial profiling by potentially leading to biased outcomes based on the accuracy of the algorithms used. If the technology is not trained on a diverse dataset, there is a risk of misidentification, especially of individuals from minority groups. This could result in disproportionate surveillance, monitoring, or targeting of certain racial or ethnic groups, reinforcing existing biases and leading to discriminatory practices in law enforcement or other sectors where facial recognition is utilized."
      ],
      "text/plain": [
       "<IPython.core.display.Markdown object>"
      ]
     },
     "metadata": {},
     "output_type": "display_data"
    },
    {
     "name": "stdout",
     "output_type": "stream",
     "text": [
      "Is there evidence to support claims of systemic racism within law enforcement agencies?\n",
      "> Merging 1 nodes into parent node.\n",
      "> Parent node id: 31f1f412-5bc1-4c28-9114-cc6746428b3a.\n",
      "> Parent node text: There is no evidence of systematic anti-Black disparities in fatal shootings of unarmed citizens....\n",
      "\n"
     ]
    },
    {
     "data": {
      "text/markdown": [
       "**`Final Response:`** There is no evidence presented in the context information to support claims of systemic racism within law enforcement agencies."
      ],
      "text/plain": [
       "<IPython.core.display.Markdown object>"
      ]
     },
     "metadata": {},
     "output_type": "display_data"
    },
    {
     "name": "stdout",
     "output_type": "stream",
     "text": [
      "How do predictive policing algorithms affect communities of color?\n"
     ]
    },
    {
     "data": {
      "text/markdown": [
       "**`Final Response:`** Predictive policing algorithms can have a disproportionate impact on communities of color."
      ],
      "text/plain": [
       "<IPython.core.display.Markdown object>"
      ]
     },
     "metadata": {},
     "output_type": "display_data"
    },
    {
     "name": "stdout",
     "output_type": "stream",
     "text": [
      "How do media portrayals of crime influence public perception of different racial groups?\n"
     ]
    },
    {
     "data": {
      "text/markdown": [
       "**`Final Response:`** Media portrayals of crime can significantly influence public perception of different racial groups. The way in which crimes are covered by the media, especially when it comes to racial dynamics, can shape how the public views certain races in relation to criminal activity. This coverage can impact attitudes, stereotypes, and biases held by individuals towards specific racial groups based on the narratives presented in the media."
      ],
      "text/plain": [
       "<IPython.core.display.Markdown object>"
      ]
     },
     "metadata": {},
     "output_type": "display_data"
    },
    {
     "name": "stdout",
     "output_type": "stream",
     "text": [
      "What are the consequences of underreporting hate crimes on minority communities?\n",
      "> Merging 1 nodes into parent node.\n",
      "> Parent node id: 31f1f412-5bc1-4c28-9114-cc6746428b3a.\n",
      "> Parent node text: There is no evidence of systematic anti-Black disparities in fatal shootings of unarmed citizens....\n",
      "\n"
     ]
    },
    {
     "data": {
      "text/markdown": [
       "**`Final Response:`** Underreporting hate crimes on minority communities can lead to a lack of accurate data on the prevalence and severity of these incidents. This can result in a failure to address and combat systemic discrimination and violence against these communities effectively. Additionally, underreporting can contribute to a sense of mistrust towards law enforcement and the justice system among minority groups, potentially leading to a lack of accountability for perpetrators and a perpetuation of harmful biases and stereotypes."
      ],
      "text/plain": [
       "<IPython.core.display.Markdown object>"
      ]
     },
     "metadata": {},
     "output_type": "display_data"
    },
    {
     "name": "stdout",
     "output_type": "stream",
     "text": [
      "How do law enforcement agencies address allegations of racial bias in their practices?\n"
     ]
    },
    {
     "data": {
      "text/markdown": [
       "**`Final Response:`** Law enforcement agencies address allegations of racial bias in their practices by conducting research and analysis to determine if there is any systemic racial disparity or bias. They compare different data sets to assess if there is any bias in their policing data and take steps to understand the proper benchmarks for evaluating racial disparities. Additionally, they may analyze the rates of police exposure for different racial groups to ensure a comprehensive understanding of the interactions between law enforcement and the community."
      ],
      "text/plain": [
       "<IPython.core.display.Markdown object>"
      ]
     },
     "metadata": {},
     "output_type": "display_data"
    },
    {
     "name": "stdout",
     "output_type": "stream",
     "text": [
      "What measures can be taken to ensure equitable treatment of all racial groups within the criminal justice system?\n"
     ]
    },
    {
     "data": {
      "text/markdown": [
       "**`Final Response:`** To ensure equitable treatment of all racial groups within the criminal justice system, it is important to use appropriate benchmarks for disparity research rather than relying solely on population-based statistics. This includes considering factors such as rates of police exposure based on criminal activity rather than just overall population percentages. Additionally, efforts should be made to address any biases in the decision-making process and to analyze data sets that are uncontaminated by police bias to gain a more accurate understanding of disparities. Implementing reforms based on comprehensive and unbiased research findings can help promote fair and just treatment for all racial groups within the criminal justice system."
      ],
      "text/plain": [
       "<IPython.core.display.Markdown object>"
      ]
     },
     "metadata": {},
     "output_type": "display_data"
    }
   ],
   "source": [
    "from llama_index.core.response.notebook_utils import display_response\n",
    "\n",
    "query_engine = get_automerging_query_engine(index, similarity_top_k=6)\n",
    "\n",
    "with open('./generated_questions.txt') as file:\n",
    "    for line in file:\n",
    "        question = line.strip()\n",
    "        print(question)\n",
    "        display_response(query_engine.query(question))"
   ]
  }
 ],
 "metadata": {
  "kernelspec": {
   "display_name": "venv",
   "language": "python",
   "name": "python3"
  },
  "language_info": {
   "codemirror_mode": {
    "name": "ipython",
    "version": 3
   },
   "file_extension": ".py",
   "mimetype": "text/x-python",
   "name": "python",
   "nbconvert_exporter": "python",
   "pygments_lexer": "ipython3",
   "version": "3.13.2"
  }
 },
 "nbformat": 4,
 "nbformat_minor": 5
}
