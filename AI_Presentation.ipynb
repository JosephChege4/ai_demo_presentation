{
 "cells": [
  {
   "cell_type": "markdown",
   "id": "cd7996c5-91eb-41de-ac6a-0b22462b76f1",
   "metadata": {},
   "source": [
    "# Auto-Merging Retreival"
   ]
  },
  {
   "cell_type": "code",
   "execution_count": 16,
   "id": "8949da64-bc7f-4929-b394-51d11732e62f",
   "metadata": {},
   "outputs": [],
   "source": [
    "import os\n",
    "\n",
    "from llama_index.core import (\n",
    "    VectorStoreIndex,\n",
    "    StorageContext,\n",
    "    Settings,\n",
    "    load_index_from_storage,\n",
    ")\n",
    "from llama_index.llms.openai import OpenAI\n",
    "from llama_index.embeddings.openai import OpenAIEmbedding\n",
    "from llama_index.core.node_parser import HierarchicalNodeParser, get_leaf_nodes\n",
    "from llama_index.core.retrievers import AutoMergingRetriever\n",
    "from llama_index.core.indices.postprocessor import SentenceTransformerRerank\n",
    "from llama_index.core.query_engine import RetrieverQueryEngine\n",
    "\n",
    "\n",
    "def build_automerging_index(\n",
    "    documents,\n",
    "    llm,\n",
    "    embed_model=\"local:BAAI/bge-small-en-v1.5\",\n",
    "    save_dir=\"merging_index\",\n",
    "    chunk_sizes=None,\n",
    "):\n",
    "    # Set global settings\n",
    "    Settings.llm = llm\n",
    "    Settings.embed_model = embed_model\n",
    "\n",
    "    chunk_sizes = chunk_sizes or [2048, 512, 128]\n",
    "    node_parser = HierarchicalNodeParser.from_defaults(chunk_sizes=chunk_sizes)\n",
    "    nodes = node_parser.get_nodes_from_documents(documents)\n",
    "    leaf_nodes = get_leaf_nodes(nodes)\n",
    "\n",
    "    storage_context = StorageContext.from_defaults()\n",
    "    storage_context.docstore.add_documents(nodes)\n",
    "\n",
    "    if not os.path.exists(save_dir):\n",
    "        automerging_index = VectorStoreIndex(\n",
    "            leaf_nodes,\n",
    "            storage_context=storage_context,\n",
    "        )\n",
    "        automerging_index.storage_context.persist(persist_dir=save_dir)\n",
    "    else:\n",
    "        automerging_index = load_index_from_storage(\n",
    "            StorageContext.from_defaults(persist_dir=save_dir),\n",
    "        )\n",
    "    return automerging_index\n",
    "\n",
    "\n",
    "def get_automerging_query_engine(\n",
    "    automerging_index,\n",
    "    similarity_top_k=12,\n",
    "    rerank_top_n=6,\n",
    "):\n",
    "    base_retriever = automerging_index.as_retriever(similarity_top_k=similarity_top_k)\n",
    "    retriever = AutoMergingRetriever(\n",
    "        base_retriever, automerging_index.storage_context, verbose=True\n",
    "    )\n",
    "    rerank = SentenceTransformerRerank(\n",
    "        top_n=rerank_top_n, model=\"BAAI/bge-reranker-base\"\n",
    "    )\n",
    "    auto_merging_engine = RetrieverQueryEngine.from_args(\n",
    "        retriever, node_postprocessors=[rerank]\n",
    "    )\n",
    "    return auto_merging_engine\n"
   ]
  },
  {
   "cell_type": "code",
   "execution_count": 17,
   "id": "642f00fd",
   "metadata": {},
   "outputs": [],
   "source": [
    "from llama_index.llms.openai import OpenAI \n",
    "from llama_index.core import Settings\n",
    "\n",
    "from llama_index.core import SimpleDirectoryReader\n",
    "\n",
    "documents = SimpleDirectoryReader(\n",
    "    input_files=[\"./Infowars/source1.pdf\", \"./Infowars/source2.pdf\", \"./Infowars/source3.pdf\", \"./Infowars/source4.pdf\", \"./Infowars/source5.pdf\", \"./Infowars/source6.pdf\", \"./Infowars/source7.pdf\", \"./Infowars/source8.pdf\", \"./Infowars/source9.pdf\", \"./Infowars/source10.pdf\"]\n",
    ").load_data()\n"
   ]
  },
  {
   "cell_type": "code",
   "execution_count": 18,
   "id": "b7f52577-2e8e-4fee-ade9-2f5ce96a7a8c",
   "metadata": {},
   "outputs": [],
   "source": [
    "from llama_index.core import Document\n",
    "\n",
    "document = Document(text=\"\\n\\n\".join([doc.text for doc in documents]))\n",
    "\n",
    "index = build_automerging_index(\n",
    "    [document],\n",
    "    llm=OpenAI(model=\"gpt-3.5-turbo\", temperature=0.1),\n",
    "    save_dir=\"./merging_index\",\n",
    ")\n"
   ]
  },
  {
   "cell_type": "code",
   "execution_count": 19,
   "id": "c753885f-bfaf-4ac0-8410-b62f619827c4",
   "metadata": {},
   "outputs": [
    {
     "name": "stdout",
     "output_type": "stream",
     "text": [
      "What do racial disparities in police shootings say about Black people?\n",
      "> Merging 1 nodes into parent node.\n",
      "> Parent node id: 31f1f412-5bc1-4c28-9114-cc6746428b3a.\n",
      "> Parent node text: There is no evidence of systematic anti-Black disparities in fatal shootings of unarmed citizens....\n",
      "\n"
     ]
    },
    {
     "data": {
      "text/markdown": [
       "**`Final Response:`** Racial disparities in police shootings do not indicate systematic anti-Black disparities in fatal shootings of unarmed citizens or in fatal shootings involving misidentification of objects as weapons."
      ],
      "text/plain": [
       "<IPython.core.display.Markdown object>"
      ]
     },
     "metadata": {},
     "output_type": "display_data"
    },
    {
     "name": "stdout",
     "output_type": "stream",
     "text": [
      "Why is critical race theory a poor idea?\n",
      "> Merging 1 nodes into parent node.\n",
      "> Parent node id: 31f1f412-5bc1-4c28-9114-cc6746428b3a.\n",
      "> Parent node text: There is no evidence of systematic anti-Black disparities in fatal shootings of unarmed citizens....\n",
      "\n"
     ]
    },
    {
     "data": {
      "text/markdown": [
       "**`Final Response:`** Critical race theory is considered a poor idea because it often relies on population-based comparisons to argue for racial disparity or bias, which can lead to misleading conclusions. This approach assumes that all citizens are equally likely to be exposed to certain situations, such as police use of deadly force, which may not accurately reflect the complexities of individual cases. Additionally, critical race theory's emphasis on making every story about race can sometimes result in overlooking important facts and details, potentially leading to embarrassing mistakes and misinterpretations."
      ],
      "text/plain": [
       "<IPython.core.display.Markdown object>"
      ]
     },
     "metadata": {},
     "output_type": "display_data"
    },
    {
     "name": "stdout",
     "output_type": "stream",
     "text": [
      "Are current policing methods effective in reducing crime in minority communities?\n",
      "> Merging 1 nodes into parent node.\n",
      "> Parent node id: 31f1f412-5bc1-4c28-9114-cc6746428b3a.\n",
      "> Parent node text: There is no evidence of systematic anti-Black disparities in fatal shootings of unarmed citizens....\n",
      "\n"
     ]
    },
    {
     "data": {
      "text/markdown": [
       "**`Final Response:`** Current policing methods are being scrutinized for potential bias and racial disparities, particularly in interactions with black citizens. Despite efforts to address concerns and compare different data sets, there are ongoing debates about the effectiveness of these methods in reducing crime in minority communities. The issue of crime in these communities is complex and involves discussions around public perception, political spin, and the reality of criminal activity. The effectiveness of current policing methods in addressing crime in minority communities remains a topic of debate and further examination."
      ],
      "text/plain": [
       "<IPython.core.display.Markdown object>"
      ]
     },
     "metadata": {},
     "output_type": "display_data"
    },
    {
     "name": "stdout",
     "output_type": "stream",
     "text": [
      "Why is there insufficient evidence to support claims of systemic racism within law enforcement agencies?\n",
      "> Merging 1 nodes into parent node.\n",
      "> Parent node id: 31f1f412-5bc1-4c28-9114-cc6746428b3a.\n",
      "> Parent node text: There is no evidence of systematic anti-Black disparities in fatal shootings of unarmed citizens....\n",
      "\n"
     ]
    },
    {
     "data": {
      "text/markdown": [
       "**`Final Response:`** There is insufficient evidence to support claims of systemic racism within law enforcement agencies because research findings have shown no evidence of systematic anti-Black disparities in fatal shootings of unarmed citizens or in fatal shootings involving misidentification of objects as weapons. Additionally, comparisons of data sets uncontaminated by police bias have consistently shown no significant racial disparity in police shootings after accounting for estimated rates of police exposure."
      ],
      "text/plain": [
       "<IPython.core.display.Markdown object>"
      ]
     },
     "metadata": {},
     "output_type": "display_data"
    }
   ],
   "source": [
    "from llama_index.core.response.notebook_utils import display_response\n",
    "\n",
    "query_engine = get_automerging_query_engine(index, similarity_top_k=6)\n",
    "\n",
    "with open('./generated_questions.txt') as file:\n",
    "    for line in file:\n",
    "        question = line.strip()\n",
    "        print(question)\n",
    "        display_response(query_engine.query(question))"
   ]
  }
 ],
 "metadata": {
  "kernelspec": {
   "display_name": "venv",
   "language": "python",
   "name": "python3"
  },
  "language_info": {
   "codemirror_mode": {
    "name": "ipython",
    "version": 3
   },
   "file_extension": ".py",
   "mimetype": "text/x-python",
   "name": "python",
   "nbconvert_exporter": "python",
   "pygments_lexer": "ipython3",
   "version": "3.13.2"
  }
 },
 "nbformat": 4,
 "nbformat_minor": 5
}
